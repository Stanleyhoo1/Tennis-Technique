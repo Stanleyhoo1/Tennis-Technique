version https://git-lfs.github.com/spec/v1
oid sha256:23f25fdb3c0d3ff898a1dd0fc0ebdbfc202c5cc7b9e92ba0c966a053dcaf2852
size 1176716
