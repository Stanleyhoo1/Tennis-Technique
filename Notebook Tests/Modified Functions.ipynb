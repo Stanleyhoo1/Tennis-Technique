version https://git-lfs.github.com/spec/v1
oid sha256:acb365833b55ef6e65447b16f6c12fd566ab534b30f1168833fceb09dc449f8c
size 13035347
